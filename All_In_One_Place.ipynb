{
 "cells": [
  {
   "cell_type": "markdown",
   "id": "0bf0cf8b",
   "metadata": {},
   "source": [
    "# All In One Place\n",
    "\n",
    "### - O objetivo é determinar quem são os clientes elegíveis para participar de um programa de fidelidade da empresa All In One Place?"
   ]
  },
  {
   "cell_type": "markdown",
   "id": "a33bf5e8",
   "metadata": {},
   "source": [
    "#### O conjunto de dados:\n",
    "\n",
    "- Cada linha representa uma transação de venda, que ocorreu entre o período de Novembro de 2016 e Dezembro de 2017.\n",
    "\n",
    ">Invoice Number: identificador único de cada transação.\\\n",
    "Stock Code Product: código do item.\\\n",
    "Description Product: nome do item.\\\n",
    "Quantity: A quantidade de cada item comprado por transação.\\\n",
    "Invoice Date: O dia em que a transação ocorreu.\\\n",
    "Unit Price: Preço do produto por unidade.\\\n",
    "Customer ID: identificador único do cliente.\\\n",
    "Country: O nome do país que o cliente reside."
   ]
  },
  {
   "cell_type": "code",
   "execution_count": 125,
   "id": "18b8607b",
   "metadata": {},
   "outputs": [],
   "source": [
    "#Pacotes\n",
    "library(tidyverse)\n",
    "library(ggplot2)\n",
    "library(cowplot)\n",
    "library(repr)\n",
    "library(lubridate)\n",
    "library(cluster)\n",
    "library(dendextend)\n",
    "library(factoextra)\n",
    "library(fpc)\n",
    "library(gridExtra)\n",
    "library(glue)\n",
    "library(dbscan)"
   ]
  },
  {
   "cell_type": "code",
   "execution_count": 126,
   "id": "d5fa5928",
   "metadata": {},
   "outputs": [
    {
     "data": {
      "text/html": [
       "<table class=\"dataframe\">\n",
       "<caption>A data.frame: 6 × 9</caption>\n",
       "<thead>\n",
       "\t<tr><th></th><th scope=col>InvoiceNo</th><th scope=col>StockCode</th><th scope=col>Description</th><th scope=col>Quantity</th><th scope=col>InvoiceDate</th><th scope=col>UnitPrice</th><th scope=col>CustomerID</th><th scope=col>Country</th><th scope=col>X</th></tr>\n",
       "\t<tr><th></th><th scope=col>&lt;chr&gt;</th><th scope=col>&lt;chr&gt;</th><th scope=col>&lt;chr&gt;</th><th scope=col>&lt;int&gt;</th><th scope=col>&lt;chr&gt;</th><th scope=col>&lt;dbl&gt;</th><th scope=col>&lt;int&gt;</th><th scope=col>&lt;chr&gt;</th><th scope=col>&lt;lgl&gt;</th></tr>\n",
       "</thead>\n",
       "<tbody>\n",
       "\t<tr><th scope=row>1</th><td>536365</td><td>85123A</td><td>WHITE HANGING HEART T-LIGHT HOLDER </td><td>6</td><td>29-Nov-16</td><td>2.55</td><td>17850</td><td>United Kingdom</td><td>NA</td></tr>\n",
       "\t<tr><th scope=row>2</th><td>536365</td><td>71053 </td><td>WHITE METAL LANTERN                </td><td>6</td><td>29-Nov-16</td><td>3.39</td><td>17850</td><td>United Kingdom</td><td>NA</td></tr>\n",
       "\t<tr><th scope=row>3</th><td>536365</td><td>84406B</td><td>CREAM CUPID HEARTS COAT HANGER     </td><td>8</td><td>29-Nov-16</td><td>2.75</td><td>17850</td><td>United Kingdom</td><td>NA</td></tr>\n",
       "\t<tr><th scope=row>4</th><td>536365</td><td>84029G</td><td>KNITTED UNION FLAG HOT WATER BOTTLE</td><td>6</td><td>29-Nov-16</td><td>3.39</td><td>17850</td><td>United Kingdom</td><td>NA</td></tr>\n",
       "\t<tr><th scope=row>5</th><td>536365</td><td>84029E</td><td>RED WOOLLY HOTTIE WHITE HEART.     </td><td>6</td><td>29-Nov-16</td><td>3.39</td><td>17850</td><td>United Kingdom</td><td>NA</td></tr>\n",
       "\t<tr><th scope=row>6</th><td>536365</td><td>22752 </td><td>SET 7 BABUSHKA NESTING BOXES       </td><td>2</td><td>29-Nov-16</td><td>7.65</td><td>17850</td><td>United Kingdom</td><td>NA</td></tr>\n",
       "</tbody>\n",
       "</table>\n"
      ],
      "text/latex": [
       "A data.frame: 6 × 9\n",
       "\\begin{tabular}{r|lllllllll}\n",
       "  & InvoiceNo & StockCode & Description & Quantity & InvoiceDate & UnitPrice & CustomerID & Country & X\\\\\n",
       "  & <chr> & <chr> & <chr> & <int> & <chr> & <dbl> & <int> & <chr> & <lgl>\\\\\n",
       "\\hline\n",
       "\t1 & 536365 & 85123A & WHITE HANGING HEART T-LIGHT HOLDER  & 6 & 29-Nov-16 & 2.55 & 17850 & United Kingdom & NA\\\\\n",
       "\t2 & 536365 & 71053  & WHITE METAL LANTERN                 & 6 & 29-Nov-16 & 3.39 & 17850 & United Kingdom & NA\\\\\n",
       "\t3 & 536365 & 84406B & CREAM CUPID HEARTS COAT HANGER      & 8 & 29-Nov-16 & 2.75 & 17850 & United Kingdom & NA\\\\\n",
       "\t4 & 536365 & 84029G & KNITTED UNION FLAG HOT WATER BOTTLE & 6 & 29-Nov-16 & 3.39 & 17850 & United Kingdom & NA\\\\\n",
       "\t5 & 536365 & 84029E & RED WOOLLY HOTTIE WHITE HEART.      & 6 & 29-Nov-16 & 3.39 & 17850 & United Kingdom & NA\\\\\n",
       "\t6 & 536365 & 22752  & SET 7 BABUSHKA NESTING BOXES        & 2 & 29-Nov-16 & 7.65 & 17850 & United Kingdom & NA\\\\\n",
       "\\end{tabular}\n"
      ],
      "text/markdown": [
       "\n",
       "A data.frame: 6 × 9\n",
       "\n",
       "| <!--/--> | InvoiceNo &lt;chr&gt; | StockCode &lt;chr&gt; | Description &lt;chr&gt; | Quantity &lt;int&gt; | InvoiceDate &lt;chr&gt; | UnitPrice &lt;dbl&gt; | CustomerID &lt;int&gt; | Country &lt;chr&gt; | X &lt;lgl&gt; |\n",
       "|---|---|---|---|---|---|---|---|---|---|\n",
       "| 1 | 536365 | 85123A | WHITE HANGING HEART T-LIGHT HOLDER  | 6 | 29-Nov-16 | 2.55 | 17850 | United Kingdom | NA |\n",
       "| 2 | 536365 | 71053  | WHITE METAL LANTERN                 | 6 | 29-Nov-16 | 3.39 | 17850 | United Kingdom | NA |\n",
       "| 3 | 536365 | 84406B | CREAM CUPID HEARTS COAT HANGER      | 8 | 29-Nov-16 | 2.75 | 17850 | United Kingdom | NA |\n",
       "| 4 | 536365 | 84029G | KNITTED UNION FLAG HOT WATER BOTTLE | 6 | 29-Nov-16 | 3.39 | 17850 | United Kingdom | NA |\n",
       "| 5 | 536365 | 84029E | RED WOOLLY HOTTIE WHITE HEART.      | 6 | 29-Nov-16 | 3.39 | 17850 | United Kingdom | NA |\n",
       "| 6 | 536365 | 22752  | SET 7 BABUSHKA NESTING BOXES        | 2 | 29-Nov-16 | 7.65 | 17850 | United Kingdom | NA |\n",
       "\n"
      ],
      "text/plain": [
       "  InvoiceNo StockCode Description                         Quantity InvoiceDate\n",
       "1 536365    85123A    WHITE HANGING HEART T-LIGHT HOLDER  6        29-Nov-16  \n",
       "2 536365    71053     WHITE METAL LANTERN                 6        29-Nov-16  \n",
       "3 536365    84406B    CREAM CUPID HEARTS COAT HANGER      8        29-Nov-16  \n",
       "4 536365    84029G    KNITTED UNION FLAG HOT WATER BOTTLE 6        29-Nov-16  \n",
       "5 536365    84029E    RED WOOLLY HOTTIE WHITE HEART.      6        29-Nov-16  \n",
       "6 536365    22752     SET 7 BABUSHKA NESTING BOXES        2        29-Nov-16  \n",
       "  UnitPrice CustomerID Country        X \n",
       "1 2.55      17850      United Kingdom NA\n",
       "2 3.39      17850      United Kingdom NA\n",
       "3 2.75      17850      United Kingdom NA\n",
       "4 3.39      17850      United Kingdom NA\n",
       "5 3.39      17850      United Kingdom NA\n",
       "6 7.65      17850      United Kingdom NA"
      ]
     },
     "metadata": {},
     "output_type": "display_data"
    }
   ],
   "source": [
    "dados <- read.csv(\"Ecommerce.csv\")\n",
    "head(dados)"
   ]
  },
  {
   "cell_type": "markdown",
   "id": "b6885f9f",
   "metadata": {},
   "source": [
    "### - Limpeza dos dados"
   ]
  },
  {
   "cell_type": "code",
   "execution_count": 127,
   "id": "6a0f175a",
   "metadata": {},
   "outputs": [
    {
     "name": "stdout",
     "output_type": "stream",
     "text": [
      "Rows: 541,909\n",
      "Columns: 9\n",
      "$ InvoiceNo   \u001b[3m\u001b[90m<chr>\u001b[39m\u001b[23m \"536365\", \"536365\", \"536365\", \"536365\", \"536365\", \"536365\"~\n",
      "$ StockCode   \u001b[3m\u001b[90m<chr>\u001b[39m\u001b[23m \"85123A\", \"71053\", \"84406B\", \"84029G\", \"84029E\", \"22752\", ~\n",
      "$ Description \u001b[3m\u001b[90m<chr>\u001b[39m\u001b[23m \"WHITE HANGING HEART T-LIGHT HOLDER\", \"WHITE METAL LANTERN~\n",
      "$ Quantity    \u001b[3m\u001b[90m<int>\u001b[39m\u001b[23m 6, 6, 8, 6, 6, 2, 6, 6, 6, 32, 6, 6, 8, 6, 6, 3, 2, 3, 3, ~\n",
      "$ InvoiceDate \u001b[3m\u001b[90m<chr>\u001b[39m\u001b[23m \"29-Nov-16\", \"29-Nov-16\", \"29-Nov-16\", \"29-Nov-16\", \"29-No~\n",
      "$ UnitPrice   \u001b[3m\u001b[90m<dbl>\u001b[39m\u001b[23m 2.55, 3.39, 2.75, 3.39, 3.39, 7.65, 4.25, 1.85, 1.85, 1.69~\n",
      "$ CustomerID  \u001b[3m\u001b[90m<int>\u001b[39m\u001b[23m 17850, 17850, 17850, 17850, 17850, 17850, 17850, 17850, 17~\n",
      "$ Country     \u001b[3m\u001b[90m<chr>\u001b[39m\u001b[23m \"United Kingdom\", \"United Kingdom\", \"United Kingdom\", \"Uni~\n",
      "$ X           \u001b[3m\u001b[90m<lgl>\u001b[39m\u001b[23m NA, NA, NA, NA, NA, NA, NA, NA, NA, NA, NA, NA, NA, NA, NA~\n"
     ]
    }
   ],
   "source": [
    "glimpse(dados)"
   ]
  },
  {
   "cell_type": "markdown",
   "id": "576b4116",
   "metadata": {},
   "source": [
    "- Temos 541909 observações e 9 variáveis.\n",
    "- A variável \"X\" possui apenas valores faltantes\n",
    "- A variável \"InvoiceDate\" é do tipo chr, este deveria estar no formato date"
   ]
  },
  {
   "cell_type": "code",
   "execution_count": 128,
   "id": "a4673ea1",
   "metadata": {},
   "outputs": [],
   "source": [
    "#Transformando \"InvoiceDate\" para o formato date e eliminando a coluna de valores faltantes \"X\"\n",
    "dados$X <- NULL\n",
    "dados$InvoiceDate <- dmy(dados$InvoiceDate)"
   ]
  },
  {
   "cell_type": "code",
   "execution_count": 129,
   "id": "93d8167c",
   "metadata": {},
   "outputs": [
    {
     "name": "stdout",
     "output_type": "stream",
     "text": [
      "Rows: 541,909\n",
      "Columns: 8\n",
      "$ InvoiceNo   \u001b[3m\u001b[90m<chr>\u001b[39m\u001b[23m \"536365\", \"536365\", \"536365\", \"536365\", \"536365\", \"536365\"~\n",
      "$ StockCode   \u001b[3m\u001b[90m<chr>\u001b[39m\u001b[23m \"85123A\", \"71053\", \"84406B\", \"84029G\", \"84029E\", \"22752\", ~\n",
      "$ Description \u001b[3m\u001b[90m<chr>\u001b[39m\u001b[23m \"WHITE HANGING HEART T-LIGHT HOLDER\", \"WHITE METAL LANTERN~\n",
      "$ Quantity    \u001b[3m\u001b[90m<int>\u001b[39m\u001b[23m 6, 6, 8, 6, 6, 2, 6, 6, 6, 32, 6, 6, 8, 6, 6, 3, 2, 3, 3, ~\n",
      "$ InvoiceDate \u001b[3m\u001b[90m<date>\u001b[39m\u001b[23m 2016-11-29, 2016-11-29, 2016-11-29, 2016-11-29, 2016-11-2~\n",
      "$ UnitPrice   \u001b[3m\u001b[90m<dbl>\u001b[39m\u001b[23m 2.55, 3.39, 2.75, 3.39, 3.39, 7.65, 4.25, 1.85, 1.85, 1.69~\n",
      "$ CustomerID  \u001b[3m\u001b[90m<int>\u001b[39m\u001b[23m 17850, 17850, 17850, 17850, 17850, 17850, 17850, 17850, 17~\n",
      "$ Country     \u001b[3m\u001b[90m<chr>\u001b[39m\u001b[23m \"United Kingdom\", \"United Kingdom\", \"United Kingdom\", \"Uni~\n"
     ]
    }
   ],
   "source": [
    "glimpse(dados)"
   ]
  },
  {
   "cell_type": "code",
   "execution_count": 130,
   "id": "df4c44a8",
   "metadata": {},
   "outputs": [
    {
     "data": {
      "text/plain": [
       "  InvoiceNo          StockCode         Description           Quantity        \n",
       " Length:541909      Length:541909      Length:541909      Min.   :-80995.00  \n",
       " Class :character   Class :character   Class :character   1st Qu.:     1.00  \n",
       " Mode  :character   Mode  :character   Mode  :character   Median :     3.00  \n",
       "                                                          Mean   :     9.55  \n",
       "                                                          3rd Qu.:    10.00  \n",
       "                                                          Max.   : 80995.00  \n",
       "                                                                             \n",
       "  InvoiceDate           UnitPrice           CustomerID       Country         \n",
       " Min.   :2016-11-29   Min.   :-11062.06   Min.   :12346    Length:541909     \n",
       " 1st Qu.:2017-03-26   1st Qu.:     1.25   1st Qu.:13953    Class :character  \n",
       " Median :2017-07-17   Median :     2.08   Median :15152    Mode  :character  \n",
       " Mean   :2017-07-02   Mean   :     4.61   Mean   :15288                      \n",
       " 3rd Qu.:2017-10-17   3rd Qu.:     4.13   3rd Qu.:16791                      \n",
       " Max.   :2017-12-07   Max.   : 38970.00   Max.   :18287                      \n",
       "                                          NA's   :135080                     "
      ]
     },
     "metadata": {},
     "output_type": "display_data"
    }
   ],
   "source": [
    "summary(dados)"
   ]
  },
  {
   "cell_type": "markdown",
   "id": "66293985",
   "metadata": {},
   "source": [
    " - Existem 135080 registros não informados de clientes (CustumerID). Estes registros não podem ser usados na nossa análise pois não sabemos quem são estes clientes."
   ]
  },
  {
   "cell_type": "code",
   "execution_count": 131,
   "id": "854072a5",
   "metadata": {},
   "outputs": [
    {
     "data": {
      "text/html": [
       "<style>\n",
       ".list-inline {list-style: none; margin:0; padding: 0}\n",
       ".list-inline>li {display: inline-block}\n",
       ".list-inline>li:not(:last-child)::after {content: \"\\00b7\"; padding: 0 .5ex}\n",
       "</style>\n",
       "<ol class=list-inline><li>406829</li><li>8</li></ol>\n"
      ],
      "text/latex": [
       "\\begin{enumerate*}\n",
       "\\item 406829\n",
       "\\item 8\n",
       "\\end{enumerate*}\n"
      ],
      "text/markdown": [
       "1. 406829\n",
       "2. 8\n",
       "\n",
       "\n"
      ],
      "text/plain": [
       "[1] 406829      8"
      ]
     },
     "metadata": {},
     "output_type": "display_data"
    }
   ],
   "source": [
    "dados <- dados[!is.na(dados$CustomerID),]\n",
    "dim(dados)"
   ]
  },
  {
   "cell_type": "code",
   "execution_count": 132,
   "id": "d2281d4a",
   "metadata": {},
   "outputs": [],
   "source": [
    "#Criando a coluna \"ValorTotal\":\n",
    "dados$ValorTotal <- dados$UnitPrice * dados$Quantity"
   ]
  },
  {
   "cell_type": "code",
   "execution_count": 133,
   "id": "7f3cbc88",
   "metadata": {},
   "outputs": [
    {
     "data": {
      "text/plain": [
       "  InvoiceNo          StockCode         Description           Quantity        \n",
       " Length:406829      Length:406829      Length:406829      Min.   :-80995.00  \n",
       " Class :character   Class :character   Class :character   1st Qu.:     2.00  \n",
       " Mode  :character   Mode  :character   Mode  :character   Median :     5.00  \n",
       "                                                          Mean   :    12.06  \n",
       "                                                          3rd Qu.:    12.00  \n",
       "                                                          Max.   : 80995.00  \n",
       "  InvoiceDate           UnitPrice          CustomerID      Country         \n",
       " Min.   :2016-11-29   Min.   :    0.00   Min.   :12346   Length:406829     \n",
       " 1st Qu.:2017-04-04   1st Qu.:    1.25   1st Qu.:13953   Class :character  \n",
       " Median :2017-07-29   Median :    1.95   Median :15152   Mode  :character  \n",
       " Mean   :2017-07-08   Mean   :    3.46   Mean   :15288                     \n",
       " 3rd Qu.:2017-10-18   3rd Qu.:    3.75   3rd Qu.:16791                     \n",
       " Max.   :2017-12-07   Max.   :38970.00   Max.   :18287                     \n",
       "   ValorTotal       \n",
       " Min.   :-168469.6  \n",
       " 1st Qu.:      4.2  \n",
       " Median :     11.1  \n",
       " Mean   :     20.4  \n",
       " 3rd Qu.:     19.5  \n",
       " Max.   : 168469.6  "
      ]
     },
     "metadata": {},
     "output_type": "display_data"
    }
   ],
   "source": [
    "summary(dados)"
   ]
  },
  {
   "cell_type": "code",
   "execution_count": 134,
   "id": "7070165b",
   "metadata": {},
   "outputs": [
    {
     "data": {
      "text/html": [
       "<table class=\"dataframe\">\n",
       "<caption>A data.frame: 6 × 9</caption>\n",
       "<thead>\n",
       "\t<tr><th></th><th scope=col>InvoiceNo</th><th scope=col>StockCode</th><th scope=col>Description</th><th scope=col>Quantity</th><th scope=col>InvoiceDate</th><th scope=col>UnitPrice</th><th scope=col>CustomerID</th><th scope=col>Country</th><th scope=col>ValorTotal</th></tr>\n",
       "\t<tr><th></th><th scope=col>&lt;chr&gt;</th><th scope=col>&lt;chr&gt;</th><th scope=col>&lt;chr&gt;</th><th scope=col>&lt;int&gt;</th><th scope=col>&lt;date&gt;</th><th scope=col>&lt;dbl&gt;</th><th scope=col>&lt;int&gt;</th><th scope=col>&lt;chr&gt;</th><th scope=col>&lt;dbl&gt;</th></tr>\n",
       "</thead>\n",
       "<tbody>\n",
       "\t<tr><th scope=row>1</th><td>536365</td><td>85123A</td><td>WHITE HANGING HEART T-LIGHT HOLDER </td><td>6</td><td>2016-11-29</td><td>2.55</td><td>17850</td><td>United Kingdom</td><td>15.30</td></tr>\n",
       "\t<tr><th scope=row>2</th><td>536365</td><td>71053 </td><td>WHITE METAL LANTERN                </td><td>6</td><td>2016-11-29</td><td>3.39</td><td>17850</td><td>United Kingdom</td><td>20.34</td></tr>\n",
       "\t<tr><th scope=row>3</th><td>536365</td><td>84406B</td><td>CREAM CUPID HEARTS COAT HANGER     </td><td>8</td><td>2016-11-29</td><td>2.75</td><td>17850</td><td>United Kingdom</td><td>22.00</td></tr>\n",
       "\t<tr><th scope=row>4</th><td>536365</td><td>84029G</td><td>KNITTED UNION FLAG HOT WATER BOTTLE</td><td>6</td><td>2016-11-29</td><td>3.39</td><td>17850</td><td>United Kingdom</td><td>20.34</td></tr>\n",
       "\t<tr><th scope=row>5</th><td>536365</td><td>84029E</td><td>RED WOOLLY HOTTIE WHITE HEART.     </td><td>6</td><td>2016-11-29</td><td>3.39</td><td>17850</td><td>United Kingdom</td><td>20.34</td></tr>\n",
       "\t<tr><th scope=row>6</th><td>536365</td><td>22752 </td><td>SET 7 BABUSHKA NESTING BOXES       </td><td>2</td><td>2016-11-29</td><td>7.65</td><td>17850</td><td>United Kingdom</td><td>15.30</td></tr>\n",
       "</tbody>\n",
       "</table>\n"
      ],
      "text/latex": [
       "A data.frame: 6 × 9\n",
       "\\begin{tabular}{r|lllllllll}\n",
       "  & InvoiceNo & StockCode & Description & Quantity & InvoiceDate & UnitPrice & CustomerID & Country & ValorTotal\\\\\n",
       "  & <chr> & <chr> & <chr> & <int> & <date> & <dbl> & <int> & <chr> & <dbl>\\\\\n",
       "\\hline\n",
       "\t1 & 536365 & 85123A & WHITE HANGING HEART T-LIGHT HOLDER  & 6 & 2016-11-29 & 2.55 & 17850 & United Kingdom & 15.30\\\\\n",
       "\t2 & 536365 & 71053  & WHITE METAL LANTERN                 & 6 & 2016-11-29 & 3.39 & 17850 & United Kingdom & 20.34\\\\\n",
       "\t3 & 536365 & 84406B & CREAM CUPID HEARTS COAT HANGER      & 8 & 2016-11-29 & 2.75 & 17850 & United Kingdom & 22.00\\\\\n",
       "\t4 & 536365 & 84029G & KNITTED UNION FLAG HOT WATER BOTTLE & 6 & 2016-11-29 & 3.39 & 17850 & United Kingdom & 20.34\\\\\n",
       "\t5 & 536365 & 84029E & RED WOOLLY HOTTIE WHITE HEART.      & 6 & 2016-11-29 & 3.39 & 17850 & United Kingdom & 20.34\\\\\n",
       "\t6 & 536365 & 22752  & SET 7 BABUSHKA NESTING BOXES        & 2 & 2016-11-29 & 7.65 & 17850 & United Kingdom & 15.30\\\\\n",
       "\\end{tabular}\n"
      ],
      "text/markdown": [
       "\n",
       "A data.frame: 6 × 9\n",
       "\n",
       "| <!--/--> | InvoiceNo &lt;chr&gt; | StockCode &lt;chr&gt; | Description &lt;chr&gt; | Quantity &lt;int&gt; | InvoiceDate &lt;date&gt; | UnitPrice &lt;dbl&gt; | CustomerID &lt;int&gt; | Country &lt;chr&gt; | ValorTotal &lt;dbl&gt; |\n",
       "|---|---|---|---|---|---|---|---|---|---|\n",
       "| 1 | 536365 | 85123A | WHITE HANGING HEART T-LIGHT HOLDER  | 6 | 2016-11-29 | 2.55 | 17850 | United Kingdom | 15.30 |\n",
       "| 2 | 536365 | 71053  | WHITE METAL LANTERN                 | 6 | 2016-11-29 | 3.39 | 17850 | United Kingdom | 20.34 |\n",
       "| 3 | 536365 | 84406B | CREAM CUPID HEARTS COAT HANGER      | 8 | 2016-11-29 | 2.75 | 17850 | United Kingdom | 22.00 |\n",
       "| 4 | 536365 | 84029G | KNITTED UNION FLAG HOT WATER BOTTLE | 6 | 2016-11-29 | 3.39 | 17850 | United Kingdom | 20.34 |\n",
       "| 5 | 536365 | 84029E | RED WOOLLY HOTTIE WHITE HEART.      | 6 | 2016-11-29 | 3.39 | 17850 | United Kingdom | 20.34 |\n",
       "| 6 | 536365 | 22752  | SET 7 BABUSHKA NESTING BOXES        | 2 | 2016-11-29 | 7.65 | 17850 | United Kingdom | 15.30 |\n",
       "\n"
      ],
      "text/plain": [
       "  InvoiceNo StockCode Description                         Quantity InvoiceDate\n",
       "1 536365    85123A    WHITE HANGING HEART T-LIGHT HOLDER  6        2016-11-29 \n",
       "2 536365    71053     WHITE METAL LANTERN                 6        2016-11-29 \n",
       "3 536365    84406B    CREAM CUPID HEARTS COAT HANGER      8        2016-11-29 \n",
       "4 536365    84029G    KNITTED UNION FLAG HOT WATER BOTTLE 6        2016-11-29 \n",
       "5 536365    84029E    RED WOOLLY HOTTIE WHITE HEART.      6        2016-11-29 \n",
       "6 536365    22752     SET 7 BABUSHKA NESTING BOXES        2        2016-11-29 \n",
       "  UnitPrice CustomerID Country        ValorTotal\n",
       "1 2.55      17850      United Kingdom 15.30     \n",
       "2 3.39      17850      United Kingdom 20.34     \n",
       "3 2.75      17850      United Kingdom 22.00     \n",
       "4 3.39      17850      United Kingdom 20.34     \n",
       "5 3.39      17850      United Kingdom 20.34     \n",
       "6 7.65      17850      United Kingdom 15.30     "
      ]
     },
     "metadata": {},
     "output_type": "display_data"
    }
   ],
   "source": [
    "#Eliminando valores totais negativos:\n",
    "dados <- dados[dados$ValorTotal > 0,]\n",
    "head(dados)"
   ]
  },
  {
   "cell_type": "code",
   "execution_count": 135,
   "id": "8016c981",
   "metadata": {},
   "outputs": [
    {
     "data": {
      "text/html": [
       "<style>\n",
       ".list-inline {list-style: none; margin:0; padding: 0}\n",
       ".list-inline>li {display: inline-block}\n",
       ".list-inline>li:not(:last-child)::after {content: \"\\00b7\"; padding: 0 .5ex}\n",
       "</style>\n",
       "<ol class=list-inline><li>397884</li><li>9</li></ol>\n"
      ],
      "text/latex": [
       "\\begin{enumerate*}\n",
       "\\item 397884\n",
       "\\item 9\n",
       "\\end{enumerate*}\n"
      ],
      "text/markdown": [
       "1. 397884\n",
       "2. 9\n",
       "\n",
       "\n"
      ],
      "text/plain": [
       "[1] 397884      9"
      ]
     },
     "metadata": {},
     "output_type": "display_data"
    }
   ],
   "source": [
    "dim(dados)"
   ]
  },
  {
   "cell_type": "markdown",
   "id": "28339b73",
   "metadata": {},
   "source": [
    "- Agora estamos com a base de dados na forma ideal para uma análise mais aprofundada."
   ]
  },
  {
   "cell_type": "markdown",
   "id": "d711ec7f",
   "metadata": {},
   "source": [
    "## - Clusterização"
   ]
  },
  {
   "cell_type": "markdown",
   "id": "ae550225",
   "metadata": {},
   "source": [
    "### - Preparando os dados\n",
    "\n",
    "> Como queremos encontrar os clientes que mais gastam e que compram a maior quantidade de produtos, vamos usar apenas as variáveis \"Quantity\" e \"UnitPrice\" (como a variável \"ValorTotal\" tem muita relação com as escolhidades, inicialmente, ela não é necessária para a análise)."
   ]
  },
  {
   "cell_type": "code",
   "execution_count": 136,
   "id": "27e33d0e",
   "metadata": {},
   "outputs": [
    {
     "data": {
      "text/html": [
       "<table class=\"dataframe\">\n",
       "<caption>A tibble: 5 × 3</caption>\n",
       "<thead>\n",
       "\t<tr><th scope=col>CustomerID</th><th scope=col>Quantidade</th><th scope=col>ValorGasto</th></tr>\n",
       "\t<tr><th scope=col>&lt;int&gt;</th><th scope=col>&lt;int&gt;</th><th scope=col>&lt;dbl&gt;</th></tr>\n",
       "</thead>\n",
       "<tbody>\n",
       "\t<tr><td>12346</td><td>74215</td><td>  1.04</td></tr>\n",
       "\t<tr><td>12347</td><td> 2458</td><td>481.21</td></tr>\n",
       "\t<tr><td>12348</td><td> 2341</td><td>178.71</td></tr>\n",
       "\t<tr><td>12349</td><td>  631</td><td>605.10</td></tr>\n",
       "\t<tr><td>12350</td><td>  197</td><td> 65.30</td></tr>\n",
       "</tbody>\n",
       "</table>\n"
      ],
      "text/latex": [
       "A tibble: 5 × 3\n",
       "\\begin{tabular}{lll}\n",
       " CustomerID & Quantidade & ValorGasto\\\\\n",
       " <int> & <int> & <dbl>\\\\\n",
       "\\hline\n",
       "\t 12346 & 74215 &   1.04\\\\\n",
       "\t 12347 &  2458 & 481.21\\\\\n",
       "\t 12348 &  2341 & 178.71\\\\\n",
       "\t 12349 &   631 & 605.10\\\\\n",
       "\t 12350 &   197 &  65.30\\\\\n",
       "\\end{tabular}\n"
      ],
      "text/markdown": [
       "\n",
       "A tibble: 5 × 3\n",
       "\n",
       "| CustomerID &lt;int&gt; | Quantidade &lt;int&gt; | ValorGasto &lt;dbl&gt; |\n",
       "|---|---|---|\n",
       "| 12346 | 74215 |   1.04 |\n",
       "| 12347 |  2458 | 481.21 |\n",
       "| 12348 |  2341 | 178.71 |\n",
       "| 12349 |   631 | 605.10 |\n",
       "| 12350 |   197 |  65.30 |\n",
       "\n"
      ],
      "text/plain": [
       "  CustomerID Quantidade ValorGasto\n",
       "1 12346      74215        1.04    \n",
       "2 12347       2458      481.21    \n",
       "3 12348       2341      178.71    \n",
       "4 12349        631      605.10    \n",
       "5 12350        197       65.30    "
      ]
     },
     "metadata": {},
     "output_type": "display_data"
    }
   ],
   "source": [
    "dados_cluster <- dados %>% \n",
    "                 select(\"CustomerID\", \"Quantity\", \"UnitPrice\") %>% \n",
    "                 group_by(CustomerID) %>% \n",
    "                 summarise(Quantidade = sum(Quantity), ValorGasto = sum(UnitPrice))\n",
    "head(dados_cluster, 5)"
   ]
  },
  {
   "cell_type": "code",
   "execution_count": 137,
   "id": "5d8faaae",
   "metadata": {},
   "outputs": [],
   "source": [
    "dados_cluster <- column_to_rownames(dados_cluster, \"CustomerID\")"
   ]
  },
  {
   "cell_type": "code",
   "execution_count": 138,
   "id": "b076a890",
   "metadata": {},
   "outputs": [
    {
     "data": {
      "text/html": [
       "<table class=\"dataframe\">\n",
       "<caption>A matrix: 6 × 2 of type dbl</caption>\n",
       "<thead>\n",
       "\t<tr><th></th><th scope=col>Quantidade</th><th scope=col>ValorGasto</th></tr>\n",
       "</thead>\n",
       "<tbody>\n",
       "\t<tr><th scope=row>12346</th><td>14.4713696</td><td>-0.3234094</td></tr>\n",
       "\t<tr><th scope=row>12347</th><td> 0.2510286</td><td> 0.2218439</td></tr>\n",
       "\t<tr><th scope=row>12348</th><td> 0.2278423</td><td>-0.1216576</td></tr>\n",
       "\t<tr><th scope=row>12349</th><td>-0.1110345</td><td> 0.3625262</td></tr>\n",
       "\t<tr><th scope=row>12350</th><td>-0.1970418</td><td>-0.2504395</td></tr>\n",
       "\t<tr><th scope=row>12352</th><td>-0.1298610</td><td> 1.2130587</td></tr>\n",
       "</tbody>\n",
       "</table>\n"
      ],
      "text/latex": [
       "A matrix: 6 × 2 of type dbl\n",
       "\\begin{tabular}{r|ll}\n",
       "  & Quantidade & ValorGasto\\\\\n",
       "\\hline\n",
       "\t12346 & 14.4713696 & -0.3234094\\\\\n",
       "\t12347 &  0.2510286 &  0.2218439\\\\\n",
       "\t12348 &  0.2278423 & -0.1216576\\\\\n",
       "\t12349 & -0.1110345 &  0.3625262\\\\\n",
       "\t12350 & -0.1970418 & -0.2504395\\\\\n",
       "\t12352 & -0.1298610 &  1.2130587\\\\\n",
       "\\end{tabular}\n"
      ],
      "text/markdown": [
       "\n",
       "A matrix: 6 × 2 of type dbl\n",
       "\n",
       "| <!--/--> | Quantidade | ValorGasto |\n",
       "|---|---|---|\n",
       "| 12346 | 14.4713696 | -0.3234094 |\n",
       "| 12347 |  0.2510286 |  0.2218439 |\n",
       "| 12348 |  0.2278423 | -0.1216576 |\n",
       "| 12349 | -0.1110345 |  0.3625262 |\n",
       "| 12350 | -0.1970418 | -0.2504395 |\n",
       "| 12352 | -0.1298610 |  1.2130587 |\n",
       "\n"
      ],
      "text/plain": [
       "      Quantidade ValorGasto\n",
       "12346 14.4713696 -0.3234094\n",
       "12347  0.2510286  0.2218439\n",
       "12348  0.2278423 -0.1216576\n",
       "12349 -0.1110345  0.3625262\n",
       "12350 -0.1970418 -0.2504395\n",
       "12352 -0.1298610  1.2130587"
      ]
     },
     "metadata": {},
     "output_type": "display_data"
    }
   ],
   "source": [
    "dados_cluster_padr <- scale(dados_cluster)\n",
    "head(dados_cluster_padr)"
   ]
  },
  {
   "cell_type": "markdown",
   "id": "d48f209e",
   "metadata": {},
   "source": [
    "- Iniciaremos a análise testando o método baseado em centróides, k-means"
   ]
  },
  {
   "cell_type": "markdown",
   "id": "e3a87ce2",
   "metadata": {},
   "source": [
    "### K-Means\n",
    "\n",
    "- Para este método, inicialmente, precisamos escolher o número de clusters que devem ser construídos. Para isso vamos usar dois métodos, wss (soma de quadrados ou elbow) e silhueta."
   ]
  },
  {
   "cell_type": "code",
   "execution_count": 139,
   "id": "e38b2a2a",
   "metadata": {},
   "outputs": [],
   "source": [
    "vizwss_km <- fviz_nbclust(dados_cluster_padr, FUN = kmeans, method = \"wss\") +\n",
    "labs(title = \"Número de cluster pelo método WSS\",\n",
    "     x = \"Númerod de clusters\",\n",
    "     y = \"Soma dos quadrados\")\n",
    "vizsil_km <- fviz_nbclust(dados_cluster_padr, FUN = kmeans, method = \"silhouette\") +\n",
    "labs(title = \"Número de cluster pelo método Silhueta\",\n",
    "     x = \"Númerod de clusters\",\n",
    "     y = \"Silhueta\")"
   ]
  },
  {
   "cell_type": "code",
   "execution_count": 140,
   "id": "8d0cd7cc",
   "metadata": {},
   "outputs": [
    {
     "data": {
      "image/png": "[encoded data removed]",
      "text/plain": [
       "plot without title"
      ]
     },
     "metadata": {
      "image/png": {
       "height": 420,
       "width": 840
      }
     },
     "output_type": "display_data"
    }
   ],
   "source": [
    "options(repr.plot.width = 14, repr.plot.height = 7)\n",
    "plot_grid(vizwss_km, vizsil_km)"
   ]
  },
  {
   "cell_type": "markdown",
   "id": "10c93253",
   "metadata": {},
   "source": [
    "- Pelo método soma de quadrados (wss) o valor ideal de clusters parece ser 4, pois é nesse ponto que a variabilidade começa a diminuir de fato. Ja pelo método da silhueta o número ideal de clusters é 2. Vamos testar as duas opções."
   ]
  },
  {
   "cell_type": "code",
   "execution_count": 141,
   "id": "e5c425bb",
   "metadata": {},
   "outputs": [],
   "source": [
    "set.seed(101)\n",
    "k2 <- kmeans(dados_cluster_padr, centers = 2)\n",
    "k4 <- kmeans(dados_cluster_padr, centers = 4)"
   ]
  },
  {
   "cell_type": "code",
   "execution_count": 142,
   "id": "9a5f2fd2",
   "metadata": {},
   "outputs": [],
   "source": [
    "vizk2 <- fviz_cluster(k2, geom = \"point\", data = dados_cluster_padr)\n",
    "vizk4 <- fviz_cluster(k4, geom = \"point\", data = dados_cluster_padr)"
   ]
  },
  {
   "cell_type": "code",
   "execution_count": 143,
   "id": "02cba8b0",
   "metadata": {},
   "outputs": [
    {
     "data": {
      "image/png": "[encoded data removed]",
      "text/plain": [
       "plot without title"
      ]
     },
     "metadata": {
      "image/png": {
       "height": 420,
       "width": 840
      }
     },
     "output_type": "display_data"
    }
   ],
   "source": [
    "options(repr.plot.width = 14, repr.plot.height = 7)\n",
    "plot_grid(vizk2, vizk4)"
   ]
  },
  {
   "cell_type": "markdown",
   "id": "fed6c246",
   "metadata": {},
   "source": [
    "- Na abordagem em que utilizamos o modelo com 2 centros o cluster 1 é o que contém os clientes de nosso interesse. Na abordagem com 4 centros o cluster 1 é o que contém os clientes que compraram as maiores quantidades de produtos e no cluster 3 os clientes que mais gastaram. Porém, os clientes do cluster 2 no primeiro modelo correspondem aos mesmo do cluster 1 e 3 do segundo modelo. Sendo assim, vamos analisar somente o modelo com 2 centros."
   ]
  },
  {
   "cell_type": "code",
   "execution_count": 144,
   "id": "0b5bf667",
   "metadata": {},
   "outputs": [],
   "source": [
    "cluster_k2 <- data.frame(k2$cluster)\n",
    "dados_k2 <- cbind(dados_cluster, cluster_k2)"
   ]
  },
  {
   "cell_type": "markdown",
   "id": "c8c73926",
   "metadata": {},
   "source": [
    "### - Analizando os clusters"
   ]
  },
  {
   "cell_type": "markdown",
   "id": "d5bd83b7",
   "metadata": {},
   "source": [
    "#### - Cluster com 2 centros\n",
    "\n",
    "> Vamos selecionar, para a análise, o cluster 1"
   ]
  },
  {
   "cell_type": "code",
   "execution_count": 145,
   "id": "5001fb58",
   "metadata": {},
   "outputs": [],
   "source": [
    "cluster1_k2 <- dados_k2[dados_k2$k2.cluster == 1,]\n",
    "cluster1_k2$k2.cluster <- NULL\n",
    "cluster1_k2$ValorTotal  <- cluster1_k2$Quantidade * cluster1_k2$ValorGasto"
   ]
  },
  {
   "cell_type": "code",
   "execution_count": 146,
   "id": "d5a0b4a4",
   "metadata": {},
   "outputs": [
    {
     "data": {
      "text/html": [
       "<table class=\"dataframe\">\n",
       "<caption>A data.frame: 5 × 4</caption>\n",
       "<thead>\n",
       "\t<tr><th></th><th scope=col>Quantidade</th><th scope=col>ValorGasto</th><th scope=col>k2.cluster</th><th scope=col>ValorTotal</th></tr>\n",
       "\t<tr><th></th><th scope=col>&lt;int&gt;</th><th scope=col>&lt;dbl&gt;</th><th scope=col>&lt;int&gt;</th><th scope=col>&lt;dbl&gt;</th></tr>\n",
       "</thead>\n",
       "<tbody>\n",
       "\t<tr><th scope=row>12346</th><td>74215</td><td>  1.04</td><td>1</td><td>  77183.6</td></tr>\n",
       "\t<tr><th scope=row>12347</th><td> 2458</td><td>481.21</td><td>2</td><td>1182814.2</td></tr>\n",
       "\t<tr><th scope=row>12348</th><td> 2341</td><td>178.71</td><td>2</td><td> 418360.1</td></tr>\n",
       "\t<tr><th scope=row>12349</th><td>  631</td><td>605.10</td><td>2</td><td> 381818.1</td></tr>\n",
       "\t<tr><th scope=row>12350</th><td>  197</td><td> 65.30</td><td>2</td><td>  12864.1</td></tr>\n",
       "</tbody>\n",
       "</table>\n"
      ],
      "text/latex": [
       "A data.frame: 5 × 4\n",
       "\\begin{tabular}{r|llll}\n",
       "  & Quantidade & ValorGasto & k2.cluster & ValorTotal\\\\\n",
       "  & <int> & <dbl> & <int> & <dbl>\\\\\n",
       "\\hline\n",
       "\t12346 & 74215 &   1.04 & 1 &   77183.6\\\\\n",
       "\t12347 &  2458 & 481.21 & 2 & 1182814.2\\\\\n",
       "\t12348 &  2341 & 178.71 & 2 &  418360.1\\\\\n",
       "\t12349 &   631 & 605.10 & 2 &  381818.1\\\\\n",
       "\t12350 &   197 &  65.30 & 2 &   12864.1\\\\\n",
       "\\end{tabular}\n"
      ],
      "text/markdown": [
       "\n",
       "A data.frame: 5 × 4\n",
       "\n",
       "| <!--/--> | Quantidade &lt;int&gt; | ValorGasto &lt;dbl&gt; | k2.cluster &lt;int&gt; | ValorTotal &lt;dbl&gt; |\n",
       "|---|---|---|---|---|\n",
       "| 12346 | 74215 |   1.04 | 1 |   77183.6 |\n",
       "| 12347 |  2458 | 481.21 | 2 | 1182814.2 |\n",
       "| 12348 |  2341 | 178.71 | 2 |  418360.1 |\n",
       "| 12349 |   631 | 605.10 | 2 |  381818.1 |\n",
       "| 12350 |   197 |  65.30 | 2 |   12864.1 |\n",
       "\n"
      ],
      "text/plain": [
       "      Quantidade ValorGasto k2.cluster ValorTotal\n",
       "12346 74215        1.04     1            77183.6 \n",
       "12347  2458      481.21     2          1182814.2 \n",
       "12348  2341      178.71     2           418360.1 \n",
       "12349   631      605.10     2           381818.1 \n",
       "12350   197       65.30     2            12864.1 "
      ]
     },
     "metadata": {},
     "output_type": "display_data"
    }
   ],
   "source": [
    "dados_k2$ValorTotal <- dados_k2$Quantidade * dados_k2$ValorGasto\n",
    "head(dados_k2, 5)"
   ]
  },
  {
   "cell_type": "code",
   "execution_count": 147,
   "id": "f0521dbd",
   "metadata": {},
   "outputs": [
    {
     "data": {
      "text/html": [
       "<table class=\"dataframe\">\n",
       "<caption>A data.frame: 5 × 3</caption>\n",
       "<thead>\n",
       "\t<tr><th></th><th scope=col>Quantidade</th><th scope=col>ValorGasto</th><th scope=col>ValorTotal</th></tr>\n",
       "\t<tr><th></th><th scope=col>&lt;int&gt;</th><th scope=col>&lt;dbl&gt;</th><th scope=col>&lt;dbl&gt;</th></tr>\n",
       "</thead>\n",
       "<tbody>\n",
       "\t<tr><th scope=row>12346</th><td>74215</td><td>    1.04</td><td>    77183.6</td></tr>\n",
       "\t<tr><th scope=row>12415</th><td>77374</td><td> 2097.08</td><td>162259467.9</td></tr>\n",
       "\t<tr><th scope=row>12744</th><td> 5241</td><td>12949.99</td><td> 67870897.6</td></tr>\n",
       "\t<tr><th scope=row>12748</th><td>25747</td><td>12205.60</td><td>314257583.2</td></tr>\n",
       "\t<tr><th scope=row>13089</th><td>31070</td><td> 4977.35</td><td>154646264.5</td></tr>\n",
       "</tbody>\n",
       "</table>\n"
      ],
      "text/latex": [
       "A data.frame: 5 × 3\n",
       "\\begin{tabular}{r|lll}\n",
       "  & Quantidade & ValorGasto & ValorTotal\\\\\n",
       "  & <int> & <dbl> & <dbl>\\\\\n",
       "\\hline\n",
       "\t12346 & 74215 &     1.04 &     77183.6\\\\\n",
       "\t12415 & 77374 &  2097.08 & 162259467.9\\\\\n",
       "\t12744 &  5241 & 12949.99 &  67870897.6\\\\\n",
       "\t12748 & 25747 & 12205.60 & 314257583.2\\\\\n",
       "\t13089 & 31070 &  4977.35 & 154646264.5\\\\\n",
       "\\end{tabular}\n"
      ],
      "text/markdown": [
       "\n",
       "A data.frame: 5 × 3\n",
       "\n",
       "| <!--/--> | Quantidade &lt;int&gt; | ValorGasto &lt;dbl&gt; | ValorTotal &lt;dbl&gt; |\n",
       "|---|---|---|---|\n",
       "| 12346 | 74215 |     1.04 |     77183.6 |\n",
       "| 12415 | 77374 |  2097.08 | 162259467.9 |\n",
       "| 12744 |  5241 | 12949.99 |  67870897.6 |\n",
       "| 12748 | 25747 | 12205.60 | 314257583.2 |\n",
       "| 13089 | 31070 |  4977.35 | 154646264.5 |\n",
       "\n"
      ],
      "text/plain": [
       "      Quantidade ValorGasto ValorTotal \n",
       "12346 74215          1.04       77183.6\n",
       "12415 77374       2097.08   162259467.9\n",
       "12744  5241      12949.99    67870897.6\n",
       "12748 25747      12205.60   314257583.2\n",
       "13089 31070       4977.35   154646264.5"
      ]
     },
     "metadata": {},
     "output_type": "display_data"
    }
   ],
   "source": [
    "head(cluster1_k2, 5)"
   ]
  },
  {
   "cell_type": "code",
   "execution_count": 148,
   "id": "ca60ece0",
   "metadata": {},
   "outputs": [
    {
     "data": {
      "text/html": [
       "' - Número de clientes selecionados: 19'"
      ],
      "text/latex": [
       "' - Número de clientes selecionados: 19'"
      ],
      "text/markdown": [
       "' - Número de clientes selecionados: 19'"
      ],
      "text/plain": [
       " - Número de clientes selecionados: 19"
      ]
     },
     "metadata": {},
     "output_type": "display_data"
    },
    {
     "data": {
      "text/html": [
       "' - Porcentagem de clientes selecionados: 0.44 %'"
      ],
      "text/latex": [
       "' - Porcentagem de clientes selecionados: 0.44 \\%'"
      ],
      "text/markdown": [
       "' - Porcentagem de clientes selecionados: 0.44 %'"
      ],
      "text/plain": [
       " - Porcentagem de clientes selecionados: 0.44 %"
      ]
     },
     "metadata": {},
     "output_type": "display_data"
    }
   ],
   "source": [
    "glue(\" - Número de clientes selecionados: {nrow(cluster1_k2)}\")\n",
    "glue(\" - Porcentagem de clientes selecionados: {round(nrow(cluster1_k2)/nrow(dados_k2)*100, 2)} %\")"
   ]
  },
  {
   "cell_type": "code",
   "execution_count": 149,
   "id": "6ba7bc4f",
   "metadata": {},
   "outputs": [
    {
     "data": {
      "text/html": [
       "' - Porcentagem de produtos comprados pelos clientes selecionados: 21.64 %'"
      ],
      "text/latex": [
       "' - Porcentagem de produtos comprados pelos clientes selecionados: 21.64 \\%'"
      ],
      "text/markdown": [
       "' - Porcentagem de produtos comprados pelos clientes selecionados: 21.64 %'"
      ],
      "text/plain": [
       " - Porcentagem de produtos comprados pelos clientes selecionados: 21.64 %"
      ]
     },
     "metadata": {},
     "output_type": "display_data"
    },
    {
     "data": {
      "text/html": [
       "' - Porcentagem de gasto dos clientes selecionados: 72.63 %'"
      ],
      "text/latex": [
       "' - Porcentagem de gasto dos clientes selecionados: 72.63 \\%'"
      ],
      "text/markdown": [
       "' - Porcentagem de gasto dos clientes selecionados: 72.63 %'"
      ],
      "text/plain": [
       " - Porcentagem de gasto dos clientes selecionados: 72.63 %"
      ]
     },
     "metadata": {},
     "output_type": "display_data"
    }
   ],
   "source": [
    "glue(\" - Porcentagem de produtos comprados pelos clientes selecionados: {round(sum(cluster1_k2$Quantidade)/sum(dados_k2$Quantidade)*100, 2)} %\")\n",
    "glue(\" - Porcentagem de gasto dos clientes selecionados: {round(sum(cluster1_k2$ValorTotal)/sum(dados_k2$ValorTotal)*100, 2)} %\")"
   ]
  },
  {
   "cell_type": "markdown",
   "id": "6573028e",
   "metadata": {},
   "source": [
    "> Com o modelo de clusterização k-means conseguimos um ótimo resultado, com apenas 0,44% dos clientes conseguimos selecionar 72,63% do ganho total da empresa. \n",
    "\n",
    "- Vamos testar agora um método baseado na densidade dos dados, DBSCAN (Density-Based Spatial Clustering of Applications with Noise)."
   ]
  },
  {
   "cell_type": "markdown",
   "id": "c246909d",
   "metadata": {},
   "source": [
    "## DBSCAN\n",
    "\n",
    " - Para métodos baseados em densidade não precisamos selecionar o número de clusters previamente. Porém, precisamos decidir o valor de eps que é a distância mínima (raio) entre os pontos da vizinhança e o MinPts que é o número de pontos mínimos exigidos na vizinhança de eps para pontos centrais.\n",
    " \n",
    " - Para estimar o valor ideal de eps vamos utilizar o calculo dos k vizinhos próximos, KNN. Queremos encontrar o ponto onde a curva suavisa."
   ]
  },
  {
   "cell_type": "code",
   "execution_count": 150,
   "id": "58218ce4",
   "metadata": {},
   "outputs": [
    {
     "data": {
      "image/png": "[encoded data removed]",
      "text/plain": [
       "plot without title"
      ]
     },
     "metadata": {
      "image/png": {
       "height": 600,
       "width": 840
      }
     },
     "output_type": "display_data"
    }
   ],
   "source": [
    "options(repr.plot.width = 14, repr.plot.height = 10)\n",
    "kNNdistplot(x = dados_cluster_padr, k = 5)\n",
    "abline(h = 0.95, col = \"red\", lty = 2)"
   ]
  },
  {
   "cell_type": "code",
   "execution_count": 151,
   "id": "59c7c285",
   "metadata": {},
   "outputs": [],
   "source": [
    "set.seed(101)\n",
    "cluster_dbscan <- fpc::dbscan(dados_cluster_padr, eps = 0.95, MinPts = 5)"
   ]
  },
  {
   "cell_type": "code",
   "execution_count": 152,
   "id": "c8541015",
   "metadata": {},
   "outputs": [
    {
     "data": {
      "image/png": "[encoded data removed]",
      "text/plain": [
       "plot without title"
      ]
     },
     "metadata": {
      "image/png": {
       "height": 600,
       "width": 840
      }
     },
     "output_type": "display_data"
    }
   ],
   "source": [
    "fviz_cluster(cluster_dbscan, geom = \"point\", data = dados_cluster_padr)"
   ]
  },
  {
   "cell_type": "markdown",
   "id": "6e775242",
   "metadata": {},
   "source": [
    "- O método DBSCAN selecionou um cluster, exatamente a parte mais densa dos dados, os outros dados foram colocados como outliers. Os dados colocados como outliers são são os clientes que nos interessam, isto é, os clientes que mais gastaram e que mais compraram produtos. Como neste método só temos um cluster e os outliers são, quase exatamente,  os mesmos que selecionamos no método k-mean, não vale a pena continuar com a análise do presente método.\n",
    "\n",
    "- Por fim, vamos testar um método de clusterização por conectividade, clusteriação hierárquica."
   ]
  },
  {
   "cell_type": "markdown",
   "id": "af025ebb",
   "metadata": {},
   "source": [
    "## - Cluster Hierárquico\n",
    "\n",
    "- Nós temos muitos dados na nossa base, isso dificulta a visualização dos dendogramas do método hieráquico. Mas podemos testar este método e tentar escolher um número pequeno de clusters, isso é, podemos escolher o corte para a formação dos clusters na parte mais visível do dendograma.\n",
    "\n",
    "- Para a construção do dendograma vamos escolher a medida euclidiana e o método de Ward. Pois, como já vimos em um gráfico de Quantidade X Valor Gasto por cliente, temos uma quantidade muito grande de dados e estes dados estão muito próximos em certas partes, logo esta escolha resultará em um boa visialização."
   ]
  },
  {
   "cell_type": "code",
   "execution_count": 153,
   "id": "cdb25796",
   "metadata": {},
   "outputs": [],
   "source": [
    "distancia <- dist(x = dados_cluster_padr, method = \"euclidean\")\n",
    "hc <- hclust(d = distancia, method = 'ward.D')"
   ]
  },
  {
   "cell_type": "code",
   "execution_count": 154,
   "id": "0ac6a0f2",
   "metadata": {},
   "outputs": [
    {
     "data": {
      "image/png": "[encoded data removed]",
      "text/plain": [
       "Plot with title \"Cluster Dendrogram\""
      ]
     },
     "metadata": {
      "image/png": {
       "height": 600,
       "width": 840
      }
     },
     "output_type": "display_data"
    }
   ],
   "source": [
    "plot(hc, cex = 0.6, hang = -1)"
   ]
  },
  {
   "cell_type": "markdown",
   "id": "8ac0514c",
   "metadata": {},
   "source": [
    "- 2 é um bom número de clusters para escolhermos, pois é nesse ponto que as distâncias entre os clusters anteriores ficam maiores. Vamos observar este corte."
   ]
  },
  {
   "cell_type": "code",
   "execution_count": 155,
   "id": "6476c9ef",
   "metadata": {},
   "outputs": [
    {
     "data": {
      "image/png": "[encoded data removed]",
      "text/plain": [
       "Plot with title \"Cluster Dendrogram\""
      ]
     },
     "metadata": {
      "image/png": {
       "height": 600,
       "width": 840
      }
     },
     "output_type": "display_data"
    }
   ],
   "source": [
    "plot(hc, cex = 0.6, hang = -1)\n",
    "rect.hclust(hc, k = 2)"
   ]
  },
  {
   "cell_type": "code",
   "execution_count": 156,
   "id": "5420d5f4",
   "metadata": {},
   "outputs": [
    {
     "data": {
      "text/html": [
       "<table class=\"dataframe\">\n",
       "<caption>A data.frame: 6 × 3</caption>\n",
       "<thead>\n",
       "\t<tr><th></th><th scope=col>Quantidade</th><th scope=col>ValorGasto</th><th scope=col>hierarquico</th></tr>\n",
       "\t<tr><th></th><th scope=col>&lt;int&gt;</th><th scope=col>&lt;dbl&gt;</th><th scope=col>&lt;int&gt;</th></tr>\n",
       "</thead>\n",
       "<tbody>\n",
       "\t<tr><th scope=row>12346</th><td>74215</td><td>   1.04</td><td>1</td></tr>\n",
       "\t<tr><th scope=row>12347</th><td> 2458</td><td> 481.21</td><td>1</td></tr>\n",
       "\t<tr><th scope=row>12348</th><td> 2341</td><td> 178.71</td><td>2</td></tr>\n",
       "\t<tr><th scope=row>12349</th><td>  631</td><td> 605.10</td><td>1</td></tr>\n",
       "\t<tr><th scope=row>12350</th><td>  197</td><td>  65.30</td><td>2</td></tr>\n",
       "\t<tr><th scope=row>12352</th><td>  536</td><td>1354.11</td><td>1</td></tr>\n",
       "</tbody>\n",
       "</table>\n"
      ],
      "text/latex": [
       "A data.frame: 6 × 3\n",
       "\\begin{tabular}{r|lll}\n",
       "  & Quantidade & ValorGasto & hierarquico\\\\\n",
       "  & <int> & <dbl> & <int>\\\\\n",
       "\\hline\n",
       "\t12346 & 74215 &    1.04 & 1\\\\\n",
       "\t12347 &  2458 &  481.21 & 1\\\\\n",
       "\t12348 &  2341 &  178.71 & 2\\\\\n",
       "\t12349 &   631 &  605.10 & 1\\\\\n",
       "\t12350 &   197 &   65.30 & 2\\\\\n",
       "\t12352 &   536 & 1354.11 & 1\\\\\n",
       "\\end{tabular}\n"
      ],
      "text/markdown": [
       "\n",
       "A data.frame: 6 × 3\n",
       "\n",
       "| <!--/--> | Quantidade &lt;int&gt; | ValorGasto &lt;dbl&gt; | hierarquico &lt;int&gt; |\n",
       "|---|---|---|---|\n",
       "| 12346 | 74215 |    1.04 | 1 |\n",
       "| 12347 |  2458 |  481.21 | 1 |\n",
       "| 12348 |  2341 |  178.71 | 2 |\n",
       "| 12349 |   631 |  605.10 | 1 |\n",
       "| 12350 |   197 |   65.30 | 2 |\n",
       "| 12352 |   536 | 1354.11 | 1 |\n",
       "\n"
      ],
      "text/plain": [
       "      Quantidade ValorGasto hierarquico\n",
       "12346 74215         1.04    1          \n",
       "12347  2458       481.21    1          \n",
       "12348  2341       178.71    2          \n",
       "12349   631       605.10    1          \n",
       "12350   197        65.30    2          \n",
       "12352   536      1354.11    1          "
      ]
     },
     "metadata": {},
     "output_type": "display_data"
    }
   ],
   "source": [
    "#Preparando os clusters\n",
    "hierarquico <- cutree(hc, k = 2)\n",
    "cluster_hierarquico <- cbind(dados_cluster, hierarquico)\n",
    "head(cluster_hierarquico)"
   ]
  },
  {
   "cell_type": "code",
   "execution_count": 157,
   "id": "0b149753",
   "metadata": {},
   "outputs": [
    {
     "data": {
      "image/png": "[encoded data removed]",
      "text/plain": [
       "plot without title"
      ]
     },
     "metadata": {
      "image/png": {
       "height": 360,
       "width": 720
      }
     },
     "output_type": "display_data"
    }
   ],
   "source": [
    "#Observando os elementos dos clusters\n",
    "options(repr.plot.width = 12, repr.plot.height = 6)\n",
    "ggplot(cluster_hierarquico) +\n",
    "  geom_point(mapping = aes(x = ValorGasto, y = Quantidade,\n",
    "                           color = as.factor(hierarquico))) +\n",
    "  labs(title = \"Clusters pelo método hierárquico\",\n",
    "       x = \"Total gasto\",\n",
    "       y = \"Quantidade de produtos\",\n",
    "       color = \"Clusters\") +\n",
    "  theme_bw()"
   ]
  },
  {
   "cell_type": "markdown",
   "id": "0516e573",
   "metadata": {},
   "source": [
    "- Os clientes que mais gastaram e que compraram mais produtos estão no cluster 1. Vamos selecioná-lo para compararmos com o total."
   ]
  },
  {
   "cell_type": "code",
   "execution_count": 158,
   "id": "f2440bc8",
   "metadata": {},
   "outputs": [
    {
     "data": {
      "text/html": [
       "<table class=\"dataframe\">\n",
       "<caption>A data.frame: 6 × 3</caption>\n",
       "<thead>\n",
       "\t<tr><th></th><th scope=col>Quantidade</th><th scope=col>ValorGasto</th><th scope=col>ValorTotal</th></tr>\n",
       "\t<tr><th></th><th scope=col>&lt;int&gt;</th><th scope=col>&lt;dbl&gt;</th><th scope=col>&lt;dbl&gt;</th></tr>\n",
       "</thead>\n",
       "<tbody>\n",
       "\t<tr><th scope=row>12346</th><td>74215</td><td>   1.04</td><td>  77183.6</td></tr>\n",
       "\t<tr><th scope=row>12347</th><td> 2458</td><td> 481.21</td><td>1182814.2</td></tr>\n",
       "\t<tr><th scope=row>12349</th><td>  631</td><td> 605.10</td><td> 381818.1</td></tr>\n",
       "\t<tr><th scope=row>12352</th><td>  536</td><td>1354.11</td><td> 725803.0</td></tr>\n",
       "\t<tr><th scope=row>12357</th><td> 2708</td><td> 438.67</td><td>1187918.4</td></tr>\n",
       "\t<tr><th scope=row>12359</th><td> 1622</td><td>2137.86</td><td>3467608.9</td></tr>\n",
       "</tbody>\n",
       "</table>\n"
      ],
      "text/latex": [
       "A data.frame: 6 × 3\n",
       "\\begin{tabular}{r|lll}\n",
       "  & Quantidade & ValorGasto & ValorTotal\\\\\n",
       "  & <int> & <dbl> & <dbl>\\\\\n",
       "\\hline\n",
       "\t12346 & 74215 &    1.04 &   77183.6\\\\\n",
       "\t12347 &  2458 &  481.21 & 1182814.2\\\\\n",
       "\t12349 &   631 &  605.10 &  381818.1\\\\\n",
       "\t12352 &   536 & 1354.11 &  725803.0\\\\\n",
       "\t12357 &  2708 &  438.67 & 1187918.4\\\\\n",
       "\t12359 &  1622 & 2137.86 & 3467608.9\\\\\n",
       "\\end{tabular}\n"
      ],
      "text/markdown": [
       "\n",
       "A data.frame: 6 × 3\n",
       "\n",
       "| <!--/--> | Quantidade &lt;int&gt; | ValorGasto &lt;dbl&gt; | ValorTotal &lt;dbl&gt; |\n",
       "|---|---|---|---|\n",
       "| 12346 | 74215 |    1.04 |   77183.6 |\n",
       "| 12347 |  2458 |  481.21 | 1182814.2 |\n",
       "| 12349 |   631 |  605.10 |  381818.1 |\n",
       "| 12352 |   536 | 1354.11 |  725803.0 |\n",
       "| 12357 |  2708 |  438.67 | 1187918.4 |\n",
       "| 12359 |  1622 | 2137.86 | 3467608.9 |\n",
       "\n"
      ],
      "text/plain": [
       "      Quantidade ValorGasto ValorTotal\n",
       "12346 74215         1.04      77183.6 \n",
       "12347  2458       481.21    1182814.2 \n",
       "12349   631       605.10     381818.1 \n",
       "12352   536      1354.11     725803.0 \n",
       "12357  2708       438.67    1187918.4 \n",
       "12359  1622      2137.86    3467608.9 "
      ]
     },
     "metadata": {},
     "output_type": "display_data"
    }
   ],
   "source": [
    "clusterh1 <- cluster_hierarquico[cluster_hierarquico$hierarquico == 1,]\n",
    "clusterh1$hierarquico <- NULL\n",
    "clusterh1$ValorTotal <- clusterh1$Quantidade * clusterh1$ValorGasto\n",
    "head(clusterh1)"
   ]
  },
  {
   "cell_type": "code",
   "execution_count": 159,
   "id": "9beab6eb",
   "metadata": {},
   "outputs": [
    {
     "data": {
      "text/html": [
       "<table class=\"dataframe\">\n",
       "<caption>A data.frame: 6 × 4</caption>\n",
       "<thead>\n",
       "\t<tr><th></th><th scope=col>Quantidade</th><th scope=col>ValorGasto</th><th scope=col>hierarquico</th><th scope=col>ValorTotal</th></tr>\n",
       "\t<tr><th></th><th scope=col>&lt;int&gt;</th><th scope=col>&lt;dbl&gt;</th><th scope=col>&lt;int&gt;</th><th scope=col>&lt;dbl&gt;</th></tr>\n",
       "</thead>\n",
       "<tbody>\n",
       "\t<tr><th scope=row>12346</th><td>74215</td><td>   1.04</td><td>1</td><td>  77183.6</td></tr>\n",
       "\t<tr><th scope=row>12347</th><td> 2458</td><td> 481.21</td><td>1</td><td>1182814.2</td></tr>\n",
       "\t<tr><th scope=row>12348</th><td> 2341</td><td> 178.71</td><td>2</td><td> 418360.1</td></tr>\n",
       "\t<tr><th scope=row>12349</th><td>  631</td><td> 605.10</td><td>1</td><td> 381818.1</td></tr>\n",
       "\t<tr><th scope=row>12350</th><td>  197</td><td>  65.30</td><td>2</td><td>  12864.1</td></tr>\n",
       "\t<tr><th scope=row>12352</th><td>  536</td><td>1354.11</td><td>1</td><td> 725803.0</td></tr>\n",
       "</tbody>\n",
       "</table>\n"
      ],
      "text/latex": [
       "A data.frame: 6 × 4\n",
       "\\begin{tabular}{r|llll}\n",
       "  & Quantidade & ValorGasto & hierarquico & ValorTotal\\\\\n",
       "  & <int> & <dbl> & <int> & <dbl>\\\\\n",
       "\\hline\n",
       "\t12346 & 74215 &    1.04 & 1 &   77183.6\\\\\n",
       "\t12347 &  2458 &  481.21 & 1 & 1182814.2\\\\\n",
       "\t12348 &  2341 &  178.71 & 2 &  418360.1\\\\\n",
       "\t12349 &   631 &  605.10 & 1 &  381818.1\\\\\n",
       "\t12350 &   197 &   65.30 & 2 &   12864.1\\\\\n",
       "\t12352 &   536 & 1354.11 & 1 &  725803.0\\\\\n",
       "\\end{tabular}\n"
      ],
      "text/markdown": [
       "\n",
       "A data.frame: 6 × 4\n",
       "\n",
       "| <!--/--> | Quantidade &lt;int&gt; | ValorGasto &lt;dbl&gt; | hierarquico &lt;int&gt; | ValorTotal &lt;dbl&gt; |\n",
       "|---|---|---|---|---|\n",
       "| 12346 | 74215 |    1.04 | 1 |   77183.6 |\n",
       "| 12347 |  2458 |  481.21 | 1 | 1182814.2 |\n",
       "| 12348 |  2341 |  178.71 | 2 |  418360.1 |\n",
       "| 12349 |   631 |  605.10 | 1 |  381818.1 |\n",
       "| 12350 |   197 |   65.30 | 2 |   12864.1 |\n",
       "| 12352 |   536 | 1354.11 | 1 |  725803.0 |\n",
       "\n"
      ],
      "text/plain": [
       "      Quantidade ValorGasto hierarquico ValorTotal\n",
       "12346 74215         1.04    1             77183.6 \n",
       "12347  2458       481.21    1           1182814.2 \n",
       "12348  2341       178.71    2            418360.1 \n",
       "12349   631       605.10    1            381818.1 \n",
       "12350   197        65.30    2             12864.1 \n",
       "12352   536      1354.11    1            725803.0 "
      ]
     },
     "metadata": {},
     "output_type": "display_data"
    }
   ],
   "source": [
    "cluster_hierarquico$ValorTotal <- cluster_hierarquico$Quantidade * cluster_hierarquico$ValorGasto\n",
    "head(cluster_hierarquico)"
   ]
  },
  {
   "cell_type": "code",
   "execution_count": 160,
   "id": "045eea9d",
   "metadata": {},
   "outputs": [
    {
     "data": {
      "text/html": [
       "' - Número de clientes selecionados: 807'"
      ],
      "text/latex": [
       "' - Número de clientes selecionados: 807'"
      ],
      "text/markdown": [
       "' - Número de clientes selecionados: 807'"
      ],
      "text/plain": [
       " - Número de clientes selecionados: 807"
      ]
     },
     "metadata": {},
     "output_type": "display_data"
    },
    {
     "data": {
      "text/html": [
       "' - Porcentagem de clientes selecionados: 18.6 %'"
      ],
      "text/latex": [
       "' - Porcentagem de clientes selecionados: 18.6 \\%'"
      ],
      "text/markdown": [
       "' - Porcentagem de clientes selecionados: 18.6 %'"
      ],
      "text/plain": [
       " - Porcentagem de clientes selecionados: 18.6 %"
      ]
     },
     "metadata": {},
     "output_type": "display_data"
    }
   ],
   "source": [
    "glue(\" - Número de clientes selecionados: {nrow(clusterh1)}\")\n",
    "glue(\" - Porcentagem de clientes selecionados: {round(nrow(clusterh1)/nrow(cluster_hierarquico)*100, 2)} %\")"
   ]
  },
  {
   "cell_type": "code",
   "execution_count": 161,
   "id": "464c794f",
   "metadata": {},
   "outputs": [
    {
     "data": {
      "text/html": [
       "' - Porcentagem de produtos comprados pelos clientes selecionados: 68.7 %'"
      ],
      "text/latex": [
       "' - Porcentagem de produtos comprados pelos clientes selecionados: 68.7 \\%'"
      ],
      "text/markdown": [
       "' - Porcentagem de produtos comprados pelos clientes selecionados: 68.7 %'"
      ],
      "text/plain": [
       " - Porcentagem de produtos comprados pelos clientes selecionados: 68.7 %"
      ]
     },
     "metadata": {},
     "output_type": "display_data"
    },
    {
     "data": {
      "text/html": [
       "' - Porcentagem de gasto dos clientes selecionados: 96.77 %'"
      ],
      "text/latex": [
       "' - Porcentagem de gasto dos clientes selecionados: 96.77 \\%'"
      ],
      "text/markdown": [
       "' - Porcentagem de gasto dos clientes selecionados: 96.77 %'"
      ],
      "text/plain": [
       " - Porcentagem de gasto dos clientes selecionados: 96.77 %"
      ]
     },
     "metadata": {},
     "output_type": "display_data"
    }
   ],
   "source": [
    "glue(\" - Porcentagem de produtos comprados pelos clientes selecionados: {round(sum(clusterh1$Quantidade)/sum(cluster_hierarquico$Quantidade)*100, 2)} %\")\n",
    "glue(\" - Porcentagem de gasto dos clientes selecionados: {round(sum(clusterh1$ValorTotal)/sum(cluster_hierarquico$ValorTotal)*100, 2)} %\")"
   ]
  },
  {
   "cell_type": "markdown",
   "id": "48074ca7",
   "metadata": {},
   "source": [
    "# -----------------------------------------------------------------------------------------------------------------"
   ]
  },
  {
   "cell_type": "markdown",
   "id": "81326eec",
   "metadata": {},
   "source": [
    "# - Sumarizando"
   ]
  },
  {
   "cell_type": "markdown",
   "id": "852c7091",
   "metadata": {},
   "source": [
    "- O método de clusterização baseado em densidade, DBSCAN, não se mostrou um bom método para o nosso propósito. Ele selecionou a parte mais densa da nossa base de dados, que eram os clientes que menos gastavam e menos compravam na empresa All In One Place e colocou os outros clientes como outliers. Por este motivo decidimos descartar a análise por este método.\n",
    "\n",
    "- Para a utilização do método k-means, que é um método baseado em centróides, utilizamos o método da silhueta e o método elbow para encontrarmos o número ideal de clusters. O método da silhueta indicou que o deveríamos selecionar 2 clusters e o método elbow indicou que poderiam ser 2 ou 4 clusters. Após uma análise visual decidimos que o ideal seriam 2 clusters. Analisando os dois clusters selecionados escolhemos aquele de nosso interesse. Verificamos que, para nosso propósito, foram selecionados 19 clientes, o correspondente a  0.44 % da base de dados e que esses clientes foram responsáveis por 21.64% dos produtos comprados e por 72.63% do dinheiro gasto na loja.\n",
    "\n",
    "- Para o método de clusterização hierárquico construimos um dendograma utilizando a distância euclidiana e o método de aglomeração de Ward, isto levando em conta a quantidade e a aproximação entre os dados em um gráfico de Quantidade X Valor Gasto por cliente. Tendo a visualização do dendograma, pelas distâncias das formações dos clusters, optamos por separar a base em dois clusters. Analisando os clusters formados escolhemos o cluster de nosso interesse. O método hieráquico selecionou 807 clientes, o que corresponde a 18.6% do total, estes clientes foram responsáveis pela compra de 68.7% dos produtos e por 96.77% do dinheiro gasto na empresa."
   ]
  },
  {
   "cell_type": "markdown",
   "id": "3dc1208c",
   "metadata": {},
   "source": [
    "## - Concluindo"
   ]
  },
  {
   "cell_type": "markdown",
   "id": "8d57e5bf",
   "metadata": {},
   "source": [
    "- Fica indicado para o programa de fidelidade os clientes selecionados pelo método hieráquico, pois, neste caso temos uma boa porcentagem dos clientes 18.6%. O método k-means selecionou apenas 0.44% dos clientes, não vale a pena para a empresa investir em um programa de fidelidade para atingir tão poucos clientes e outos clientes que verão poucos selecionados não se sentirão incentivados a se esforçar para entrar no programa. Além disso o cluster hieráquico selecionou os clientes responsáveis por 96,77% dos ganho da empresa, de fato esses clientes merecem estar em um programa de fidelidade. \n",
    "\n",
    "\n",
    "- É importante pontuar que, para inserir novos clientes no programa de fidelidade, é necessário repetir o processo de clusterização já que este é um modelo de machine learning não supervisionado e, sendo assim, não permite inferências para clientes futuros."
   ]
  },
  {
   "cell_type": "code",
   "execution_count": null,
   "id": "ef76cbae",
   "metadata": {},
   "outputs": [],
   "source": []
  }
 ],
 "metadata": {
  "kernelspec": {
   "display_name": "R",
   "language": "R",
   "name": "ir"
  },
  "language_info": {
   "codemirror_mode": "r",
   "file_extension": ".r",
   "mimetype": "text/x-r-source",
   "name": "R",
   "pygments_lexer": "r",
   "version": "4.1.0"
  }
 },
 "nbformat": 4,
 "nbformat_minor": 5
}
